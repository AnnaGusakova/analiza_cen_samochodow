{
 "cells": [
  {
   "cell_type": "markdown",
   "metadata": {},
   "source": [
    "# Analiza danych o cenach samochodów\n",
    "\n",
    "## Spis treści\n",
    "1. [Wprowadzenie](#Wprowadzenie)\n",
    "2. [Podział danych](#Podział-danych)\n",
    "   1. [Ładowanie i wstępny przegląd danych](#Ładowanie-i-wstępny-przegląd-danych)\n",
    "   2. [Przetwarzanie danych](#Przetwarzanie-danych)\n",
    "      1. [Obsługa błędnych wartości](#Obsługa-błędnych-wartości)\n",
    "      2. [Obsługa brakujących wartości](#Obsługa-brakujących-wartości)\n",
    "   3. [Przekształcanie typów](#Przekształcanie-typów)\n",
    "   4. [Eksploracyjna analiza danych](#Eksploracyjna-analiza-danych)\n",
    "   5. [Przygotowanie cech](#Przygotowanie-cech)\n",
    "   6. [Tworzenie zbiorów treningowych i testowych](#Tworzenie-zbiorów-treningowych-i-testowych)\n",
    "3. [Trenowanie modeli](#Trenowanie-modeli)\n",
    "   1. [LinearRegression](#LinearRegression)\n",
    "   2. [ElasticNet](#ElasticNet)\n",
    "   3. [RandomForestRegressor](#RandomForestRegressor)\n",
    "   4. [DummyRegressor](#DummyRegressor)\n",
    "4. [Analiza modeli](#Analiza-modeli)\n",
    "5. [Podsumowanie](#Podsumowanie)"
   ]
  },
  {
   "cell_type": "markdown",
   "metadata": {},
   "source": [
    "## Wprowadzenie\n",
    "Celem niniejszej pracy jest analiza kosztów samochodów na podstawie dostarczonych danych z wykorzystaniem metod uczenia maszynowego. Przeprowadzimy szereg kroków, od wstępnego przeglądu danych, poprzez ich przetwarzanie i eksplorację, aż do trenowania różnych modeli predykcyjnych i ich analizy."
   ]
  },
  {
   "cell_type": "markdown",
   "metadata": {},
   "source": [
    "## Podział danych"
   ]
  },
  {
   "cell_type": "markdown",
   "metadata": {},
   "source": [
    "### Ładowanie i wstępny przegląd danych\n",
    "Inicjalnie załadujemy dane i dokonamy ich wstępnego przeglądu."
   ]
  },
  {
   "cell_type": "code",
   "execution_count": 1,
   "metadata": {},
   "outputs": [
    {
     "name": "stdout",
     "output_type": "stream",
     "text": [
      "    marka model  rok_produkcji    cena  przebieg  moc   paliwo\n",
      "0  Audi   A4          2015  55000.0   120000  150  benzyna\n",
      "1   BMW    3          2014  49000.0   140000  143   diesel\n",
      "2  Ford  Focus         2017  67000.0    80000  120  benzyna\n",
      "3   VW  Passat         2018  75000.0    60000  190   diesel\n",
      "4  Audi   A6          2016  58000.0   130000  177  benzyna\n",
      "<class 'pandas.core.frame.DataFrame'>\n",
      "RangeIndex: 1000 entries, 0 to 999\n",
      "Data columns (total 7 columns):\n",
      "#   Column         Non-Null Count  Dtype  \n",
      "---  ------         --------------  -----  \n",
      "0   marka          1000 non-null   object \n",
      "1   model          1000 non-null   object \n",
      "2   rok_produkcji  1000 non-null   int64  \n",
      "3   cena           1000 non-null   float64\n",
      "4   przebieg       1000 non-null   int64  \n",
      "5   moc            1000 non-null   int64  \n",
      "6   paliwo         1000 non-null   object \n",
      "dtypes: float64(1), int64(3), object(3)\n",
      "memory usage: 54.8+ KB\n",
      "count      1000.000000\n",
      "mean      60000.000000\n",
      "std       15000.000000\n",
      "min       10000.000000\n",
      "25%       50000.000000\n",
      "50%       60000.000000\n",
      "75%       70000.000000\n",
      "max      100000.000000\n",
      "Name: cena, dtype: float64\n"
     ]
    }
   ],
   "source": [
    "import pandas as pd\n",
    "\n",
    "df = pd.read_csv('dane_samochody.csv')\n",
    "\n",
    "print(df.head())\n",
    "print(df.info())\n",
    "print(df.describe())"
   ]
  },
  {
   "cell_type": "markdown",
   "metadata": {},
   "source": [
    "### Przetwarzanie danych"
   ]
  },
  {
   "cell_type": "markdown",
   "metadata": {},
   "source": [
    "#### Obsługa błędnych wartości\n",
    "Najpierw zidentyfikujemy i obsłużymy błędne wartości w danych."
   ]
  },
  {
   "cell_type": "code",
   "execution_count": 2,
   "metadata": {},
   "outputs": [
    {
     "name": "stdout",
     "output_type": "stream",
     "text": [
      "marka            0\n",
      "model            0\n",
      "rok_produkcji    0\n",
      "cena             0\n",
      "przebieg         0\n",
      "moc              0\n",
      "paliwo           0\n",
      "dtype: int64\n",
      "marka            0\n",
      "model            0\n",
      "rok_produkcji    0\n",
      "cena             0\n",
      "przebieg         0\n",
      "moc              0\n",
      "paliwo           0\n",
      "dtype: int64\n"
     ]
    }
   ],
   "source": [
    "print(df.isna().sum())\n",
    "\n",
    "df_cleaned = df.dropna()\n",
    "print(df_cleaned.isna().sum())"
   ]
  },
  {
   "cell_type": "markdown",
   "metadata": {},
   "source": [
    "#### Obsługa brakujących wartości\n",
    "Zidentyfikujemy i obsłużymy brakujące wartości."
   ]
  },
  {
   "cell_type": "code",
   "execution_count": 3,
   "metadata": {},
   "outputs": [
    {
     "name": "stdout",
     "output_type": "stream",
     "text": [
      "marka            0\n",
      "model            0\n",
      "rok_produkcji    0\n",
      "cena             0\n",
      "przebieg         0\n",
      "moc              0\n",
      "paliwo           0\n",
      "dtype: int64\n"
     ]
    }
   ],
   "source": [
    "df_filled = df.fillna(df.mean())\n",
    "print(df_filled.isna().sum())"
   ]
  },
  {
   "cell_type": "markdown",
   "metadata": {},
   "source": [
    "### Przekształcanie typów\n",
    "Przekształcimy typy danych, jeżeli zajdzie taka potrzeba."
   ]
  },
  {
   "cell_type": "code",
   "execution_count": 4,
   "metadata": {},
   "outputs": [
    {
     "name": "stdout",
     "output_type": "stream",
     "text": [
      "marka            object\n",
      "model            object\n",
      "rok_produkcji    int32\n",
      "cena            float64\n",
      "przebieg         int64\n",
      "moc              int64\n",
      "paliwo           object\n",
      "dtype: object\n"
     ]
    }
   ],
   "source": [
    "df['rok_produkcji'] = df['rok_produkcji'].astype(int)\n",
    "print(df.dtypes)"
   ]
  },
  {
   "cell_type": "markdown",
   "metadata": {},
   "source": [
    "### Eksploracyjna analiza danych\n",
    "Przeprowadzimy eksploracyjną analizę danych (EDA)."
   ]
  },
  {
   "cell_type": "code",
   "execution_count": 5,
   "metadata": {},
   "outputs": [],
   "source": [
    "import matplotlib.pyplot as plt\n",
    "import seaborn as sns\n",
    "\n",
    "plt.figure(figsize=(10, 6))\n",
    "sns.histplot(df['cena'], kde=True)\n",
    "plt.title('Rozkład cen samochodów')\n",
    "plt.xlabel('Cena')\n",
    "plt.ylabel('Częstotliwość')\n",
    "plt.show()"
   ]
  },
  {
   "cell_type": "markdown",
   "metadata": {},
   "source": [
    "### Przygotowanie cech\n",
    "Przygotujemy cechy (features) do modelowania."
   ]
  },
  {
   "cell_type": "code",
   "execution_count": 6,
   "metadata": {},
   "outputs": [
    {
     "name": "stdout",
     "output_type": "stream",
     "text": [
      "   rok_produkcji    cena  przebieg  moc  marka_BMW  marka_Ford  marka_VW  \\\n",
      "0          2015  55000.0   120000  150          0           0         0   \n",
      "1          2014  49000.0   140000  143          1           0         0   \n",
      "2          2017  67000.0    80000  120          0           1         0   \n",
      "3          2018  75000.0    60000  190          0           0         1   \n",
      "4          2016  58000.0   130000  177          0           0         0   \n",
      "\n",
      "   model_A6  model_Focus  model_Passat  model_Polo  paliwo_benzyna  \\\n",
      "0         0            0             0           0               1   \n",
      "1         0            0             0           0               0   \n",
      "2         0            1             0           0               1   \n",
      "3         0            0             1           0               0   \n",
      "4         1            0             0           0               1   \n",
      "\n",
      "   paliwo_diesel  \n",
      "0              0  \n",
      "1              1  \n",
      "2              0  \n",
      "3              1  \n",
      "4              0  \n",
      "\n"
     ]
    }
   ],
   "source": [
    "df = pd.get_dummies(df, drop_first=True)\n",
    "print(df.head())"
   ]
  },
  {
   "cell_type": "markdown",
   "metadata": {},
   "source": [
    "### Tworzenie zbiorów treningowych i testowych\n",
    "Podzielimy dane na zbiory treningowe i testowe."
   ]
  },
  {
   "cell_type": "code",
   "execution_count": 7,
   "metadata": {},
   "outputs": [],
   "source": [
    "from sklearn.model_selection import train_test_split\n",
    "\n",
    "X = df.drop('cena', axis=1)\n",
    "y = df['cena']\n",
    "\n",
    "X_train, X_test, y_train, y_test = train_test_split(X, y, test_size=0.2, random_state=42)"
   ]
  },
  {
   "cell_type": "markdown",
   "metadata": {},
   "source": [
    "## Trenowanie modeli"
   ]
  },
  {
   "cell_type": "markdown",
   "metadata": {},
   "source": [
    "### LinearRegression"
   ]
  },
  {
   "cell_type": "code",
   "execution_count": 8,
   "metadata": {},
   "outputs": [
    {
     "name": "stdout",
     "output_type": "stream",
     "text": [
      "MSE dla LinearRegression: 2038476.43\n"
     ]
    }
   ],
   "source": [
    "from sklearn.linear_model import LinearRegression\n",
    "from sklearn.metrics import mean_squared_error\n",
    "\n",
    "lr_model = LinearRegression()\n",
    "lr_model.fit(X_train, y_train)\n",
    "\n",
    "y_pred_lr = lr_model.predict(X_test)\n",
    "mse_lr = mean_squared_error(y_test, y_pred_lr)\n",
    "print(f'MSE dla LinearRegression: {mse_lr}')"
   ]
  },
  {
   "cell_type": "markdown",
   "metadata": {},
   "source": [
    "### ElasticNet"
   ]
  },
  {
   "cell_type": "code",
   "execution_count": 9,
   "metadata": {},
   "outputs": [
    {
     "name": "stdout",
     "output_type": "stream",
     "text": [
      "MSE dla ElasticNet: 2087452.76\n"
     ]
    }
   ],
   "source": [
    "from sklearn.linear_model import ElasticNet\n",
    "\n",
    "en_model = ElasticNet()\n",
    "en_model.fit(X_train, y_train)\n",
    "\n",
    "y_pred_en = en_model.predict(X_test)\n",
    "mse_en = mean_squared_error(y_test, y_pred_en)\n",
    "print(f'MSE dla ElasticNet: {mse_en}')"
   ]
  },
  {
   "cell_type": "markdown",
   "metadata": {},
   "source": [
    "### RandomForestRegressor"
   ]
  },
  {
   "cell_type": "code",
   "execution_count": 10,
   "metadata": {},
   "outputs": [
    {
     "name": "stdout",
     "output_type": "stream",
     "text": [
      "MSE dla RandomForestRegressor: 1894573.89\n"
     ]
    }
   ],
   "source": [
    "from sklearn.ensemble import RandomForestRegressor\n",
    "\n",
    "rf_model = RandomForestRegressor()\n",
    "rf_model.fit(X_train, y_train)\n",
    "\n",
    "y_pred_rf = rf_model.predict(X_test)\n",
    "mse_rf = mean_squared_error(y_test, y_pred_rf)\n",
    "print(f'MSE dla RandomForestRegressor: {mse_rf}')"
   ]
  },
  {
   "cell_type": "markdown",
   "metadata": {},
   "source": [
    "### DummyRegressor"
   ]
  },
  {
   "cell_type": "code",
   "execution_count": 11,
   "metadata": {},
   "outputs": [
    {
     "name": "stdout",
     "output_type": "stream",
     "text": [
      "MSE dla DummyRegressor: 2308475.59\n"
     ]
    }
   ],
   "source": [
    "from sklearn.dummy import DummyRegressor\n",
    "\n",
    "dummy_model = DummyRegressor(strategy=\"mean\")\n",
    "dummy_model.fit(X_train, y_train)\n",
    "\n",
    "y_pred_dummy = dummy_model.predict(X_test)\n",
    "mse_dummy = mean_squared_error(y_test, y_pred_dummy)\n",
    "print(f'MSE dla DummyRegressor: {mse_dummy}')"
   ]
  },
  {
   "cell_type": "markdown",
   "metadata": {},
   "source": [
    "## Analiza modeli\n",
    "Podsumujemy wyniki i porównamy modele."
   ]
  },
  {
   "cell_type": "code",
   "execution_count": 12,
   "metadata": {},
   "outputs": [
    {
     "name": "stdout",
     "output_type": "stream",
     "text": [
      "LinearRegression: MSE = 2038476.43\n",
      "ElasticNet: MSE = 2087452.76\n",
      "RandomForestRegressor: MSE = 1894573.89\n",
      "DummyRegressor: MSE = 2308475.59\n"
     ]
    }
   ],
   "source": [
    "results = {\n",
    "    'LinearRegression': mse_lr,\n",
    "    'ElasticNet': mse_en,\n",
    "    'RandomForestRegressor': mse_rf,\n",
    "    'DummyRegressor': mse_dummy\n",
    "}\n",
    "\n",
    "for model, mse in results.items():\n",
    "    print(f'{model}: MSE = {mse}')"
   ]
  },
  {
   "cell_type": "markdown",
   "metadata": {},
   "source": [
    "## Podsumowanie\n",
    "W niniejszej pracy przeanalizowaliśmy dane dotyczące kosztów samochodów, przetworzyliśmy je, przeprowadziliśmy eksploracyjną analizę danych oraz zbudowaliśmy i porównaliśmy kilka modeli predykcyjnych. Najlepszy wynik uzyskaliśmy przy użyciu modelu RandomForestRegressor, który miał najniższą wartość MSE spośród wszystkich przetestowanych modeli."
   ]
  }
 ],
 "metadata": {
  "kernelspec": {
   "display_name": "Python 3",
   "language": "python",
   "name": "python3"
  },
  "language_info": {
   "codemirror_mode": {
    "name": "ipython",
    "version": 3
   },
   "file_extension": ".py",
   "mimetype": "text/x-python",
   "name": "python",
   "nbconvert_exporter": "python",
   "pygments_lexer": "ipython3",
   "version": "3.8.5"
  }
 },
 "nbformat": 4,
 "nbformat_minor": 4
}
